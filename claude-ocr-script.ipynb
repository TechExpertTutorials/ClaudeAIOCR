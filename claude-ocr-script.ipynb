{
 "cells": [
  {
   "cell_type": "markdown",
   "metadata": {},
   "source": [
    "conda create -n claude-ocr -c conda-forge  \n",
    "conda activate claude-ocr  \n",
    "conda install python anthropic pillow -c conda-forge  \n",
    "\n",
    "setup ANTHROPIC_API_KEY env var  "
   ]
  },
  {
   "cell_type": "code",
   "execution_count": 5,
   "metadata": {},
   "outputs": [],
   "source": [
    "import base64\n",
    "import os\n",
    "from anthropic import Anthropic"
   ]
  },
  {
   "cell_type": "code",
   "execution_count": 6,
   "metadata": {},
   "outputs": [],
   "source": [
    "def encode_image(image_path):\n",
    "    \"\"\"\n",
    "    Encode an image file to base64 for API transmission.\n",
    "    \n",
    "    :param image_path: Path to the image file\n",
    "    :return: Base64 encoded string of the image\n",
    "    \"\"\"\n",
    "    with open(image_path, \"rb\") as image_file:\n",
    "        return base64.b64encode(image_file.read()).decode('utf-8')"
   ]
  },
  {
   "cell_type": "code",
   "execution_count": 7,
   "metadata": {},
   "outputs": [],
   "source": [
    "def extract_text_from_image(api_key, image_path):\n",
    "    \"\"\"\n",
    "    Use Claude Haiku to extract text from an image.\n",
    "    \n",
    "    :param api_key: Your Anthropic API key\n",
    "    :param image_path: Path to the image file\n",
    "    :return: Extracted text from the image\n",
    "    \"\"\"\n",
    "    # Initialize the Anthropic client\n",
    "    client = Anthropic(api_key=api_key)\n",
    "    \n",
    "    try:\n",
    "        # Encode the image\n",
    "        base64_image = encode_image(image_path)\n",
    "        \n",
    "        # Send request to Claude Haiku, Sonnet or Opus\n",
    "        response = client.messages.create(\n",
    "            model=\"claude-3-haiku-20240307\",\n",
    "            max_tokens=1000,\n",
    "            messages=[\n",
    "                {\n",
    "                    \"role\": \"user\",\n",
    "                    \"content\": [\n",
    "                        {\n",
    "                            \"type\": \"image\",\n",
    "                            \"source\": {\n",
    "                                \"type\": \"base64\",\n",
    "                                \"media_type\": \"image/jpeg\",  # or image/png, adjust as needed\n",
    "                                \"data\": base64_image\n",
    "                            }\n",
    "                        },\n",
    "                        {\n",
    "                            \"type\": \"text\",\n",
    "                            \"text\": \"Please extract all the text from this image. If there are multiple text regions, list them clearly.\"\n",
    "                        }\n",
    "                    ]\n",
    "                }\n",
    "            ]\n",
    "        )\n",
    "        \n",
    "        # Return the extracted text\n",
    "        return response.content[0].text\n",
    "    \n",
    "    except Exception as e:\n",
    "        print(f\"An error occurred: {e}\")\n",
    "        return None"
   ]
  },
  {
   "cell_type": "code",
   "execution_count": 8,
   "metadata": {},
   "outputs": [],
   "source": [
    "def main():\n",
    "    # Replace with your actual Anthropic API key\n",
    "    API_KEY = os.getenv('ANTHROPIC_API_KEY')\n",
    "    \n",
    "    if not API_KEY:\n",
    "        print(\"Please set the ANTHROPIC_API_KEY environment variable.\")\n",
    "        return\n",
    "    \n",
    "    # Path to your image file\n",
    "    IMAGE_PATH = r'D:\\Documents\\Projects\\OCR\\content\\dl1.jpg'\n",
    "    \n",
    "    # Extract text from the image\n",
    "    extracted_text = extract_text_from_image(API_KEY, IMAGE_PATH)\n",
    "    \n",
    "    if extracted_text:\n",
    "        print(\"Extracted Text:\")\n",
    "        print(extracted_text)\n",
    "    else:\n",
    "        print(\"Failed to extract text from the image.\")"
   ]
  },
  {
   "cell_type": "code",
   "execution_count": 9,
   "metadata": {},
   "outputs": [
    {
     "name": "stdout",
     "output_type": "stream",
     "text": [
      "Extracted Text:\n",
      "The text extracted from the image includes:\n",
      "\n",
      "1. Pennsylvania\n",
      "2. Commercial Driver's License\n",
      "3. 44 DOB: 99 999 999\n",
      "4. 3 DOB: 08/04/1975\n",
      "5. 4b EXP: 08/05/2023\n",
      "6. 4a ISS: 03/01/2019\n",
      "7. SAMPLE\n",
      "8. JANICE ANN\n",
      "9. 123 MAIN STREET\n",
      "10. HARRISBURG, PA 17101-0000\n",
      "11. 15 SEX: F 18 EYES: BRO\n",
      "12. 16 HGT: 5-06\"\n",
      "13. CLASS: A\n",
      "14. END: NONE\n",
      "15. RESTR: NONE\n",
      "16. DD: 12345678901234\n",
      "17. 456789012345\n",
      "18. CDL\n",
      "19. ORGAN DONOR\n"
     ]
    }
   ],
   "source": [
    "if __name__ == '__main__':\n",
    "    main()"
   ]
  },
  {
   "cell_type": "code",
   "execution_count": null,
   "metadata": {},
   "outputs": [],
   "source": []
  }
 ],
 "metadata": {
  "kernelspec": {
   "display_name": "claude-ocr",
   "language": "python",
   "name": "claude-ocr"
  },
  "language_info": {
   "codemirror_mode": {
    "name": "ipython",
    "version": 3
   },
   "file_extension": ".py",
   "mimetype": "text/x-python",
   "name": "python",
   "nbconvert_exporter": "python",
   "pygments_lexer": "ipython3",
   "version": "3.13.1"
  }
 },
 "nbformat": 4,
 "nbformat_minor": 2
}
