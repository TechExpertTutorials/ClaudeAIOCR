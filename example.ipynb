{
 "cells": [
  {
   "cell_type": "markdown",
   "metadata": {},
   "source": [
    "Initial Setup:  \n",
    "    conda create -n claude-ocr -c conda-forge  \n",
    "    conda activate claude-ocr  \n",
    "    conda install python anthropic pillow ipykernel jupyter nb_conda_kernels ipywidgets -c conda-forge  \n",
    "    python -m ipykernel install [--user] --prefix=C:\\Users\\tech_expert\\.conda\\envs\\claude-ocr --name claude-ocr \n",
    "\n",
    "windows: setup ANTHROPIC_API_KEY env var  "
   ]
  },
  {
   "cell_type": "code",
   "execution_count": null,
   "metadata": {},
   "outputs": [],
   "source": [
    "import anthropic\n",
    "import os"
   ]
  },
  {
   "cell_type": "code",
   "execution_count": null,
   "metadata": {},
   "outputs": [],
   "source": [
    "client = anthropic.Anthropic(\n",
    "    api_key = os.environ.get(\"ANTHROPIC_API_KEY\")\n",
    "    # api_key=\"my_api_key\",\n",
    ")\n"
   ]
  },
  {
   "cell_type": "code",
   "execution_count": null,
   "metadata": {},
   "outputs": [],
   "source": [
    "message = client.messages.create(\n",
    "    model=\"claude-3-5-sonnet-20241022\",\n",
    "    max_tokens=1024,\n",
    "    messages=[\n",
    "        {\"role\": \"user\", \"content\": \"Hello, Claude. Tell me how big is the earth?\"}\n",
    "    ]\n",
    ")\n"
   ]
  },
  {
   "cell_type": "code",
   "execution_count": null,
   "metadata": {},
   "outputs": [],
   "source": [
    "print(message.content)"
   ]
  }
 ],
 "metadata": {
  "kernelspec": {
   "display_name": "claude-ocr",
   "language": "python",
   "name": "python3"
  },
  "language_info": {
   "name": "python",
   "version": "3.13.1"
  }
 },
 "nbformat": 4,
 "nbformat_minor": 2
}
